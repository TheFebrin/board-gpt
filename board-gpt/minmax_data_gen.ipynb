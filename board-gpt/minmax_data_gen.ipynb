{
 "cells": [
  {
   "cell_type": "code",
   "execution_count": 1,
   "metadata": {},
   "outputs": [],
   "source": [
    "from connect_four.connect_four import ConnectFour\n",
    "from connect_four.agents import Agent, RandomAgent, MinMaxAgent\n",
    "from connect_four.arena import Arena, generate_random_game\n",
    "from itertools import permutations, combinations\n",
    "from tqdm import tqdm\n",
    "import pickle"
   ]
  },
  {
   "cell_type": "code",
   "execution_count": 2,
   "metadata": {},
   "outputs": [
    {
     "name": "stderr",
     "output_type": "stream",
     "text": [
      "7383 games generated: 100%|██████████| 10000/10000 [14:43:04<00:00,  5.30s/it] \n"
     ]
    }
   ],
   "source": [
    "\n",
    "depths = [1, 2, 3]\n",
    "games = []\n",
    "try:\n",
    "    bar = tqdm(range(10000))\n",
    "    for i in bar:\n",
    "        bar.set_description(f\"{len(games)} games generated\")\n",
    "        for depth_one, depth_two in permutations(depths, 2):\n",
    "            cf = ConnectFour()\n",
    "            agent_one = MinMaxAgent(cf, max_depth=depth_one, player_id=1)\n",
    "            agent_two = MinMaxAgent(cf, max_depth=depth_two, player_id=2)\n",
    "            arena = Arena(agent_one, agent_two, cf)\n",
    "            arena.play()\n",
    "            if not arena.game.history in games:\n",
    "                games.append(arena.game.history)\n",
    "except KeyboardInterrupt:\n",
    "    pass"
   ]
  },
  {
   "cell_type": "code",
   "execution_count": 6,
   "metadata": {},
   "outputs": [],
   "source": [
    "with open(\"connect_four/dataset/dataset_minmax_123_7383.pkl\", \"wb\") as f:\n",
    "    pickle.dump(games, f)"
   ]
  },
  {
   "cell_type": "code",
   "execution_count": 7,
   "metadata": {},
   "outputs": [],
   "source": [
    "with open(\"connect_four/dataset/dataset_minmax_123_7383.pkl\", \"rb\") as f:\n",
    "    game_transcriptions = pickle.load(f)\n",
    "assert game_transcriptions == games"
   ]
  },
  {
   "cell_type": "code",
   "execution_count": null,
   "metadata": {},
   "outputs": [],
   "source": []
  },
  {
   "cell_type": "code",
   "execution_count": 5,
   "metadata": {},
   "outputs": [],
   "source": [
    "# cf = ConnectFour()\n",
    "# agent_one = MinMaxAgent(cf, max_depth=3, player_id=1)\n",
    "# agent_two = MinMaxAgent(cf, max_depth=3, player_id=2)\n",
    "# arena = Arena(agent_one, agent_two, cf)\n",
    "# winner = arena.play()\n",
    "# arena.game.print_board()"
   ]
  }
 ],
 "metadata": {
  "kernelspec": {
   "display_name": "Python 3",
   "language": "python",
   "name": "python3"
  },
  "language_info": {
   "codemirror_mode": {
    "name": "ipython",
    "version": 3
   },
   "file_extension": ".py",
   "mimetype": "text/x-python",
   "name": "python",
   "nbconvert_exporter": "python",
   "pygments_lexer": "ipython3",
   "version": "3.9.13"
  },
  "orig_nbformat": 4
 },
 "nbformat": 4,
 "nbformat_minor": 2
}
