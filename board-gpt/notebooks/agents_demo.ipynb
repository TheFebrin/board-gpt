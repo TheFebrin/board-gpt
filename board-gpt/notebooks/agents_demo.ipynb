{
 "cells": [
  {
   "cell_type": "code",
   "execution_count": 1,
   "metadata": {},
   "outputs": [],
   "source": [
    "from connect_four.connect_four import ConnectFour, Agent\n",
    "from connect_four.connect_four_dataset import (\n",
    "    ConnectFourDataset, CharConnectFourDataset, DatasetPreprocessingConfig\n",
    ")\n",
    "import pickle\n",
    "import torch\n",
    "from mingpt.utils import sample\n",
    "from mingpt.model import GPT, GPTConfig\n",
    "\n",
    "device = torch.cuda.current_device()"
   ]
  },
  {
   "cell_type": "code",
   "execution_count": 2,
   "metadata": {},
   "outputs": [
    {
     "name": "stdout",
     "output_type": "stream",
     "text": [
      "Dataset created has 100000 sequences, 8 unique words.\n"
     ]
    }
   ],
   "source": [
    "with open(\"connect_four/dataset/dataset_6x7_110000.pkl\", \"rb\") as f:\n",
    "    game_transcriptions = pickle.load(f)\n",
    "\n",
    "cf_data = ConnectFourDataset(data_size=0, train_size=100000, games_to_use=game_transcriptions)\n",
    "char_cf_dataset = CharConnectFourDataset(cf_data)"
   ]
  },
  {
   "cell_type": "code",
   "execution_count": 3,
   "metadata": {},
   "outputs": [],
   "source": [
    "class GPTAgent(Agent):\n",
    "    def __init__(\n",
    "            self,\n",
    "            model: GPT,\n",
    "            game: ConnectFour,\n",
    "            preprocessing_config: DatasetPreprocessingConfig\n",
    "        ):\n",
    "        self.model = model\n",
    "        self.game = game\n",
    "        self.config = preprocessing_config\n",
    "\n",
    "    def choose_move(self) -> int:\n",
    "        x = torch.tensor(\n",
    "            [self.config.to_model_repr[s] for s in self.game.history], dtype=torch.long\n",
    "        )[None, ...].to(device)\n",
    "        y = sample(self.model, x, 1, temperature=1.0)[0]\n",
    "        completion = [self.config.from_model_repr[int(i)] for i in y if i != -1]\n",
    "        return completion[-1]"
   ]
  },
  {
   "cell_type": "code",
   "execution_count": 4,
   "metadata": {},
   "outputs": [],
   "source": [
    "game = ConnectFour()\n",
    "mconf = GPTConfig(\n",
    "    char_cf_dataset.config.vocab_size, char_cf_dataset.config.block_size, n_layer=2, n_head=8, n_embd=80\n",
    ")\n",
    "model = GPT(mconf).to(device)\n",
    "model.load_state_dict(torch.load(\"./ckpts/gpt_at_20230618_093325.ckpt\"))\n",
    "gpt_agent = GPTAgent(model, game, char_cf_dataset.config)"
   ]
  },
  {
   "cell_type": "code",
   "execution_count": 5,
   "metadata": {},
   "outputs": [
    {
     "data": {
      "text/plain": [
       "5"
      ]
     },
     "execution_count": 5,
     "metadata": {},
     "output_type": "execute_result"
    }
   ],
   "source": [
    "game.make_move(piece=1, column=4) # First player is placing its piece in the fourth column\n",
    "gpt_agent.choose_move() # GPT makes a move based on the game of length = 1"
   ]
  }
 ],
 "metadata": {
  "kernelspec": {
   "display_name": "Python 3",
   "language": "python",
   "name": "python3"
  },
  "language_info": {
   "codemirror_mode": {
    "name": "ipython",
    "version": 3
   },
   "file_extension": ".py",
   "mimetype": "text/x-python",
   "name": "python",
   "nbconvert_exporter": "python",
   "pygments_lexer": "ipython3",
   "version": "3.9.13"
  },
  "orig_nbformat": 4
 },
 "nbformat": 4,
 "nbformat_minor": 2
}
